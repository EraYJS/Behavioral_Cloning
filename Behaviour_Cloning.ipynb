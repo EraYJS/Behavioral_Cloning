{
 "cells": [
  {
   "cell_type": "markdown",
   "metadata": {},
   "source": [
    "# Behaviour Cloning Project"
   ]
  },
  {
   "cell_type": "markdown",
   "metadata": {},
   "source": [
    "## Import Needed Modules"
   ]
  },
  {
   "cell_type": "code",
   "execution_count": 1,
   "metadata": {},
   "outputs": [
    {
     "name": "stdout",
     "output_type": "stream",
     "text": [
      "WARNING:tensorflow:From /Users/jyuan/anaconda3/envs/tf/lib/python3.6/site-packages/tensorflow/python/ops/distributions/distribution.py:265: ReparameterizationType.__init__ (from tensorflow.python.ops.distributions.distribution) is deprecated and will be removed after 2019-01-01.\n",
      "Instructions for updating:\n",
      "The TensorFlow Distributions library has moved to TensorFlow Probability (https://github.com/tensorflow/probability). You should update all references to use `tfp.distributions` instead of `tf.distributions`.\n",
      "WARNING:tensorflow:From /Users/jyuan/anaconda3/envs/tf/lib/python3.6/site-packages/tensorflow/python/ops/distributions/bernoulli.py:169: RegisterKL.__init__ (from tensorflow.python.ops.distributions.kullback_leibler) is deprecated and will be removed after 2019-01-01.\n",
      "Instructions for updating:\n",
      "The TensorFlow Distributions library has moved to TensorFlow Probability (https://github.com/tensorflow/probability). You should update all references to use `tfp.distributions` instead of `tf.distributions`.\n"
     ]
    }
   ],
   "source": [
    "import csv\n",
    "import cv2\n",
    "import os\n",
    "\n",
    "import matplotlib.image as mpimg\n",
    "import matplotlib.pyplot as plt\n",
    "import numpy as np\n",
    "import tensorflow as tf\n",
    "\n",
    "from sklearn.model_selection import train_test_split\n",
    "from tensorflow.keras import layers\n",
    "from tensorflow.keras import models\n",
    "from tensorflow.keras import Sequential"
   ]
  },
  {
   "cell_type": "markdown",
   "metadata": {},
   "source": [
    "## Generate Dataset from Raw Data"
   ]
  },
  {
   "cell_type": "code",
   "execution_count": null,
   "metadata": {},
   "outputs": [],
   "source": [
    "def datasetGen():\n",
    "    \n",
    "    with open('simdata/driving_log.csv') as log_file:\n",
    "        log_reader = csv.DictReader(log_file)\n",
    "        count = 0\n",
    "        X = np.empty([0, 160, 320, 3], dtype=float)\n",
    "        y = np.empty([0, ], dtype=float)\n",
    "\n",
    "        for row in log_reader:\n",
    "            steering_offset = 0.4\n",
    "\n",
    "            centerImage = mpimg.imread(row['center'].strip().replace('/home/era/Projects/Work/simdata', 'simdata'))\n",
    "            flippedCenterImage = np.fliplr(centerImage)\n",
    "            centerSteering = float(row['steering'])\n",
    "\n",
    "            leftImage = mpimg.imread(row['left'].strip().replace('/home/era/Projects/Work/simdata', 'simdata'))\n",
    "            flippedLeftImage = np.fliplr(leftImage)\n",
    "            leftSteering = centerSteering + steering_offset\n",
    "\n",
    "            rightImage = mpimg.imread(row['right'].strip().replace('/home/era/Projects/Work/simdata', 'simdata'))\n",
    "            flippedRightImage = np.fliplr(rightImage)\n",
    "            rightSteering = centerSteering - steering_offset\n",
    "\n",
    "            X = np.append(X, \n",
    "                          np.array([centerImage, \n",
    "                                    flippedCenterImage, \n",
    "                                    leftImage, \n",
    "                                    flippedLeftImage, \n",
    "                                    rightImage, \n",
    "                                    flippedRightImage]), \n",
    "                         axis=0)\n",
    "                        \n",
    "            y = np.append(y, \n",
    "                          np.array([centerSteering, \n",
    "                                    -centerSteering, \n",
    "                                    leftSteering, \n",
    "                                    -leftSteering, \n",
    "                                    rightSteering, \n",
    "                                    -rightSteering]), \n",
    "                          axis=0)\n",
    "    \n",
    "    return X, y"
   ]
  },
  {
   "cell_type": "code",
   "execution_count": null,
   "metadata": {},
   "outputs": [],
   "source": [
    "X, y = datasetGen()"
   ]
  },
  {
   "cell_type": "markdown",
   "metadata": {},
   "source": [
    "## Network Architecture "
   ]
  },
  {
   "cell_type": "code",
   "execution_count": null,
   "metadata": {},
   "outputs": [],
   "source": [
    "def model():\n",
    "    model = Sequential()\n",
    "\n",
    "    model.add(layers.BatchNormalization(input_shape=(160, 320, 3), \n",
    "                                        axis=-1,\n",
    "                                        momentum=0.99, \n",
    "                                        epsilon=0.001, \n",
    "                                        center=True, \n",
    "                                        scale=True, \n",
    "                                        beta_initializer='zeros', \n",
    "                                        gamma_initializer='ones', \n",
    "                                        moving_mean_initializer='zeros', \n",
    "                                        moving_variance_initializer='ones', \n",
    "                                        beta_regularizer=None, \n",
    "                                        gamma_regularizer=None, \n",
    "                                        beta_constraint=None, \n",
    "                                        gamma_constraint=None))\n",
    "\n",
    "    model.add(layers.Conv2D(16, \n",
    "                            kernel_size=(5, 5), \n",
    "                            strides=(1, 1), \n",
    "                            activation='relu', \n",
    "                            padding='same'))\n",
    "\n",
    "    model.add(layers.Conv2D(32, \n",
    "                            kernel_size=(5, 5), \n",
    "                            strides=(2, 2), \n",
    "                            activation='relu', \n",
    "                            padding='valid'))\n",
    "\n",
    "    model.add(layers.AveragePooling2D(pool_size=(2, 2), \n",
    "                                      strides=(1, 1), \n",
    "                                      padding='valid'))\n",
    "\n",
    "    model.add(layers.Conv2D(64, \n",
    "                            kernel_size=(3, 3), \n",
    "                            strides=(2, 2), \n",
    "                            activation='relu', \n",
    "                            padding='valid'))\n",
    "\n",
    "    model.add(layers.Conv2D(64, \n",
    "                            kernel_size=(3, 3), \n",
    "                            strides=(2, 2), \n",
    "                            activation='relu', \n",
    "                            padding='valid'))\n",
    "\n",
    "    model.add(layers.AveragePooling2D(pool_size=(2, 2), \n",
    "                                      strides=(1, 1), \n",
    "                                      padding='valid'))\n",
    "\n",
    "    model.add(layers.Conv2D(128, \n",
    "                            kernel_size=(3, 3), \n",
    "                            strides=(1, 1), \n",
    "                            activation='relu', \n",
    "                            padding='valid'))\n",
    "\n",
    "    model.add(layers.Conv2D(128, \n",
    "                            kernel_size=(3, 3), \n",
    "                            strides=(1, 1), \n",
    "                            activation='relu', \n",
    "                            padding='valid'))\n",
    "\n",
    "    model.add(layers.Dropout(0.5))\n",
    "\n",
    "    model.add(layers.Flatten())\n",
    "\n",
    "    model.add(layers.Dense(4096, activation='linear'))\n",
    "\n",
    "    model.add(layers.Dense(512, activation='linear'))\n",
    "\n",
    "    model.add(layers.Dense(64, activation='linear'))\n",
    "\n",
    "    model.add(layers.Dense(8, activation='linear'))\n",
    "\n",
    "    model.add(layers.Dense(1, activation='linear'))\n",
    "\n",
    "    model.compile(loss='mse', optimizer='adam')\n",
    "\n",
    "    return model"
   ]
  },
  {
   "cell_type": "code",
   "execution_count": null,
   "metadata": {},
   "outputs": [],
   "source": [
    "model = model()\n",
    "model.summary()"
   ]
  },
  {
   "cell_type": "code",
   "execution_count": null,
   "metadata": {},
   "outputs": [],
   "source": []
  }
 ],
 "metadata": {
  "kernelspec": {
   "display_name": "Python (tf)",
   "language": "python",
   "name": "tf"
  },
  "language_info": {
   "codemirror_mode": {
    "name": "ipython",
    "version": 3
   },
   "file_extension": ".py",
   "mimetype": "text/x-python",
   "name": "python",
   "nbconvert_exporter": "python",
   "pygments_lexer": "ipython3",
   "version": "3.6.7"
  }
 },
 "nbformat": 4,
 "nbformat_minor": 2
}
