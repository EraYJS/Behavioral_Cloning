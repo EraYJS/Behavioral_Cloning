{
 "cells": [
  {
   "cell_type": "markdown",
   "metadata": {},
   "source": [
    "# Behaviour Cloning Project"
   ]
  },
  {
   "cell_type": "markdown",
   "metadata": {},
   "source": [
    "## Import Needed Modules"
   ]
  },
  {
   "cell_type": "code",
   "execution_count": null,
   "metadata": {},
   "outputs": [],
   "source": [
    "import csv\n",
    "import cv2\n",
    "import os\n",
    "\n",
    "import matplotlib.pyplot as plt\n",
    "import numpy as np\n",
    "import tensorflow as tf\n",
    "\n",
    "from sklearn.model_selection import train_test_split\n",
    "from tensorflow.keras import layers\n",
    "from tensorflow.keras import models\n",
    "from tensorflow.keras import Sequential"
   ]
  },
  {
   "cell_type": "markdown",
   "metadata": {},
   "source": [
    "## Generate Dataset from Raw Data"
   ]
  },
  {
   "cell_type": "code",
   "execution_count": null,
   "metadata": {},
   "outputs": [],
   "source": [
    "def dataProc(fpath, correction=0.2):\n",
    "    lines = []\n",
    "\n",
    "    with open(fpath + '/driving_log.csv') as labels:\n",
    "        reader = csv.reader(labels)\n",
    "\n",
    "        for line in reader:\n",
    "            lines.append(line)\n",
    "    \n",
    "    dirs = [x[0] for x in os.walk(fpath)]\n",
    "    imgDirs = list(filter(lambda directory: os.path.isfile(directory + '/driving_log.csv'), dirs))\n",
    "\n",
    "    centerTotal = []\n",
    "    leftTotal = []\n",
    "    rightTotal = []\n",
    "    measurementTotal = []\n",
    "\n",
    "    for imgdir in imgDirs:\n",
    "        center = []\n",
    "        left = []\n",
    "        right = []\n",
    "        measurements = []\n",
    "\n",
    "        for line in lines:\n",
    "            measurements.append(float(line[3]))\n",
    "            center.append(imgdir + '/' + line[0].strip())\n",
    "            left.append(imgdir + '/' + line[1].strip())\n",
    "            right.append(imgdir + '/' + line[2].strip())\n",
    "\n",
    "        centerTotal.extend(center)\n",
    "        leftTotal.extend(left)\n",
    "        rightTotal.extend(right)\n",
    "        measurementTotal.extend(measurements)\n",
    "\n",
    "    imagePaths = []\n",
    "    measurements = []\n",
    "\n",
    "    imagePaths.extend(centerTotal)\n",
    "    imagePaths.extend(leftTotal)\n",
    "    imagePaths.extend(rightTotal)\n",
    "\n",
    "    measurements.extend(measurementTotal)\n",
    "    measurements.extend([x + correction for x in measurementTotal])\n",
    "    measurements.extend([x - correction for x in measurementTotal])\n",
    "\n",
    "    return (imagePaths, measurements)"
   ]
  },
  {
   "cell_type": "markdown",
   "metadata": {},
   "source": [
    "## Network Architecture "
   ]
  },
  {
   "cell_type": "code",
   "execution_count": null,
   "metadata": {},
   "outputs": [],
   "source": [
    "def model():\n",
    "    model = Sequential()\n",
    "\n",
    "    model.add(layers.Conv2D(16, \n",
    "                            kernel_size=(5, 5), \n",
    "                            strides=(2, 2), \n",
    "                            activation='relu', \n",
    "                            input_shape=(160, 320, 3), \n",
    "                            padding='same'))\n",
    "\n",
    "    model.add(layers.Conv2D(32, \n",
    "                            kernel_size=(5, 5), \n",
    "                            strides=(2, 2), \n",
    "                            activation='relu', \n",
    "                            padding='valid'))\n",
    "\n",
    "    model.add(layers.AveragePooling2D(pool_size=(2, 2), \n",
    "                                      strides=(1, 1), \n",
    "                                      padding='valid'))\n",
    "\n",
    "    model.add(layers.Conv2D(64, \n",
    "                            kernel_size=(5, 5), \n",
    "                            strides=(2, 2), \n",
    "                            activation='relu', \n",
    "                            padding='valid'))\n",
    "\n",
    "    model.add(layers.Conv2D(64, \n",
    "                            kernel_size=(3, 3), \n",
    "                            strides=(2, 2), \n",
    "                            activation='relu', \n",
    "                            padding='valid'))\n",
    "\n",
    "    model.add(layers.AveragePooling2D(pool_size=(2, 2), \n",
    "                                      strides=(1, 1), \n",
    "                                      padding='valid'))\n",
    "\n",
    "    model.add(layers.Conv2D(128, \n",
    "                            kernel_size=(3, 3), \n",
    "                            strides=(1, 1), \n",
    "                            activation='relu', \n",
    "                            padding='valid'))\n",
    "\n",
    "    model.add(layers.Conv2D(128, \n",
    "                            kernel_size=(3, 3), \n",
    "                            strides=(1, 1), \n",
    "                            activation='relu', \n",
    "                            padding='valid'))\n",
    "\n",
    "    model.add(layers.Dropout(0.5))\n",
    "\n",
    "    model.add(layers.Flatten())\n",
    "\n",
    "    model.add(layers.Dense(4096, activation='linear'))\n",
    "\n",
    "    model.add(layers.Dense(512, activation='linear'))\n",
    "\n",
    "    model.add(layers.Dense(64, activation='linear'))\n",
    "\n",
    "    model.add(layers.Dense(8, activation='linear'))\n",
    "\n",
    "    model.add(layers.Dense(1, activation='linear'))\n",
    "\n",
    "    model.compile(loss='mse', optimizer='adam')\n",
    "\n",
    "    return model"
   ]
  }
 ],
 "metadata": {
  "kernelspec": {
   "display_name": "Python (tf)",
   "language": "python",
   "name": "tf"
  },
  "language_info": {
   "codemirror_mode": {
    "name": "ipython",
    "version": 3
   },
   "file_extension": ".py",
   "mimetype": "text/x-python",
   "name": "python",
   "nbconvert_exporter": "python",
   "pygments_lexer": "ipython3",
   "version": "3.6.7"
  }
 },
 "nbformat": 4,
 "nbformat_minor": 2
}
