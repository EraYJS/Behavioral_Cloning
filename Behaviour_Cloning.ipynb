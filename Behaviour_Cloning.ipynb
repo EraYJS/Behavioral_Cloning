{
 "cells": [
  {
   "cell_type": "markdown",
   "metadata": {},
   "source": [
    "# Behaviour Cloning Project"
   ]
  },
  {
   "cell_type": "markdown",
   "metadata": {},
   "source": [
    "## Import Needed Modules"
   ]
  },
  {
   "cell_type": "code",
   "execution_count": 1,
   "metadata": {},
   "outputs": [],
   "source": [
    "import csv\n",
    "import cv2\n",
    "import os\n",
    "\n",
    "import matplotlib.image as mpimg\n",
    "import matplotlib.pyplot as plt\n",
    "import numpy as np\n",
    "import tensorflow as tf\n",
    "\n",
    "from sklearn.model_selection import train_test_split\n",
    "from tensorflow.keras import layers\n",
    "from tensorflow.keras import models\n",
    "from tensorflow.keras import Sequential"
   ]
  },
  {
   "cell_type": "markdown",
   "metadata": {},
   "source": [
    "## Generate Dataset from Raw Data"
   ]
  },
  {
   "cell_type": "code",
   "execution_count": 2,
   "metadata": {},
   "outputs": [],
   "source": [
    "def datasetGen():\n",
    "    with open('data/driving_log.csv') as log_file:\n",
    "        log_reader = csv.DictReader(log_file)\n",
    "        X = []\n",
    "        y = []\n",
    "        steering_offset = 0.4\n",
    "\n",
    "        for row in log_reader:\n",
    "            centerImage = mpimg.imread(row['center'].strip().replace('IMG', 'data/IMG'))\n",
    "            flippedCenterImage = np.fliplr(centerImage)\n",
    "            centerSteering = float(row['steering'])\n",
    "\n",
    "            leftImage = mpimg.imread(row['left'].strip().replace('IMG', 'data/IMG'))\n",
    "            flippedLeftImage = np.fliplr(leftImage)\n",
    "            leftSteering = centerSteering + steering_offset\n",
    "\n",
    "            rightImage = mpimg.imread(row['right'].strip().replace('IMG', 'data/IMG'))\n",
    "            flippedRightImage = np.fliplr(rightImage)\n",
    "            rightSteering = centerSteering - steering_offset\n",
    "            \n",
    "            X.append(centerImage)\n",
    "            X.append(flippedCenterImage)\n",
    "            X.append(leftImage)\n",
    "            X.append(flippedLeftImage)\n",
    "            X.append(rightImage)\n",
    "            X.append(flippedRightImage)\n",
    "            \n",
    "            y.append(centerSteering)\n",
    "            y.append(-centerSteering)\n",
    "            y.append(leftSteering)\n",
    "            y.append(-leftSteering)\n",
    "            y.append(rightSteering)\n",
    "            y.append(-rightSteering)\n",
    "\n",
    "#            X = np.append(X, \n",
    "#                          np.array([centerImage, \n",
    "#                                    flippedCenterImage, \n",
    "#                                    leftImage, \n",
    "#                                    flippedLeftImage, \n",
    "#                                    rightImage, \n",
    "#                                    flippedRightImage]), \n",
    "#                         axis=0)\n",
    "                        \n",
    "#            y = np.append(y, \n",
    "#                          np.array([centerSteering, \n",
    "#                                    -centerSteering, \n",
    "#                                    leftSteering, \n",
    "#                                    -leftSteering, \n",
    "#                                    rightSteering, \n",
    "#                                    -rightSteering]), \n",
    "#                          axis=0)\n",
    "    X = np.array(X)\n",
    "    y = np.array(y)    \n",
    "    return X, y"
   ]
  },
  {
   "cell_type": "code",
   "execution_count": 3,
   "metadata": {
    "scrolled": true
   },
   "outputs": [],
   "source": [
    "X, y = datasetGen()"
   ]
  },
  {
   "cell_type": "code",
   "execution_count": 4,
   "metadata": {},
   "outputs": [],
   "source": [
    "X_train, X_valid, y_train, y_valid =  train_test_split(X, y, test_size=0.15, random_state=42)"
   ]
  },
  {
   "cell_type": "markdown",
   "metadata": {},
   "source": [
    "## Network Architecture "
   ]
  },
  {
   "cell_type": "code",
   "execution_count": null,
   "metadata": {},
   "outputs": [],
   "source": [
    "def model():\n",
    "    model = Sequential()\n",
    "\n",
    "    model.add(layers.BatchNormalization(input_shape=(160, 320, 3), \n",
    "                                        axis=-1,\n",
    "                                        momentum=0.99, \n",
    "                                        epsilon=0.001, \n",
    "                                        center=True, \n",
    "                                        scale=True, \n",
    "                                        beta_initializer='zeros', \n",
    "                                        gamma_initializer='ones', \n",
    "                                        moving_mean_initializer='zeros', \n",
    "                                        moving_variance_initializer='ones', \n",
    "                                        beta_regularizer=None, \n",
    "                                        gamma_regularizer=None, \n",
    "                                        beta_constraint=None, \n",
    "                                        gamma_constraint=None))\n",
    "\n",
    "    model.add(layers.Conv2D(8, \n",
    "                            kernel_size=(5, 5), \n",
    "                            strides=(1, 1), \n",
    "                            activation='relu', \n",
    "                            padding='same'))\n",
    "\n",
    "    model.add(layers.Conv2D(16, \n",
    "                            kernel_size=(5, 5), \n",
    "                            strides=(2, 2), \n",
    "                            activation='relu', \n",
    "                            padding='valid'))\n",
    "\n",
    "    model.add(layers.MaxPooling2D(pool_size=(2, 2), \n",
    "                                      strides=(1, 1), \n",
    "                                      padding='valid'))\n",
    "\n",
    "    model.add(layers.Conv2D(32, \n",
    "                            kernel_size=(5, 5), \n",
    "                            strides=(2, 2), \n",
    "                            activation='relu', \n",
    "                            padding='valid'))\n",
    "\n",
    "    model.add(layers.Conv2D(32, \n",
    "                            kernel_size=(3, 3), \n",
    "                            strides=(2, 2), \n",
    "                            activation='relu', \n",
    "                            padding='valid'))\n",
    "\n",
    "    model.add(layers.MaxPooling2D(pool_size=(4, 4), \n",
    "                                      strides=(2, 2), \n",
    "                                      padding='valid'))\n",
    "\n",
    "    model.add(layers.Conv2D(64, \n",
    "                            kernel_size=(3, 3), \n",
    "                            strides=(1, 1), \n",
    "                            activation='relu', \n",
    "                            padding='valid'))\n",
    "\n",
    "    model.add(layers.Conv2D(64, \n",
    "                            kernel_size=(3, 3), \n",
    "                            strides=(1, 1), \n",
    "                            activation='relu', \n",
    "                            padding='valid'))\n",
    "\n",
    "    model.add(layers.Dropout(0.4))\n",
    "\n",
    "    model.add(layers.Flatten())\n",
    "\n",
    "    model.add(layers.Dense(1024, activation='linear'))\n",
    "\n",
    "    model.add(layers.Dense(256, activation='linear'))\n",
    "\n",
    "    model.add(layers.Dense(64, activation='linear'))\n",
    "\n",
    "    model.add(layers.Dense(16, activation='linear'))\n",
    "\n",
    "    model.add(layers.Dense(1, activation='linear'))\n",
    "\n",
    "    model.compile(loss='mse', optimizer='adam')\n",
    "\n",
    "    return model"
   ]
  },
  {
   "cell_type": "code",
   "execution_count": null,
   "metadata": {},
   "outputs": [
    {
     "name": "stdout",
     "output_type": "stream",
     "text": [
      "WARNING:tensorflow:From /home/era/anaconda3/envs/tf-gpu3/lib/python3.6/site-packages/tensorflow/python/ops/resource_variable_ops.py:447: colocate_with (from tensorflow.python.framework.ops) is deprecated and will be removed in a future version.\n",
      "Instructions for updating:\n",
      "Colocations handled automatically by placer.\n",
      "WARNING:tensorflow:From /home/era/anaconda3/envs/tf-gpu3/lib/python3.6/site-packages/tensorflow/python/ops/init_ops.py:1253: calling VarianceScaling.__init__ (from tensorflow.python.ops.init_ops) with dtype is deprecated and will be removed in a future version.\n",
      "Instructions for updating:\n",
      "Call initializer instance with the dtype argument instead of passing it to the constructor\n",
      "WARNING:tensorflow:From /home/era/anaconda3/envs/tf-gpu3/lib/python3.6/site-packages/tensorflow/python/keras/layers/core.py:143: calling dropout (from tensorflow.python.ops.nn_ops) with keep_prob is deprecated and will be removed in a future version.\n",
      "Instructions for updating:\n",
      "Please use `rate` instead of `keep_prob`. Rate should be set to `rate = 1 - keep_prob`.\n",
      "_________________________________________________________________\n",
      "Layer (type)                 Output Shape              Param #   \n",
      "=================================================================\n",
      "batch_normalization_v1 (Batc (None, 160, 320, 3)       12        \n",
      "_________________________________________________________________\n",
      "conv2d (Conv2D)              (None, 160, 320, 8)       608       \n",
      "_________________________________________________________________\n",
      "conv2d_1 (Conv2D)            (None, 78, 158, 16)       3216      \n",
      "_________________________________________________________________\n",
      "max_pooling2d (MaxPooling2D) (None, 77, 157, 16)       0         \n",
      "_________________________________________________________________\n",
      "conv2d_2 (Conv2D)            (None, 37, 77, 32)        12832     \n",
      "_________________________________________________________________\n",
      "conv2d_3 (Conv2D)            (None, 18, 38, 32)        9248      \n",
      "_________________________________________________________________\n",
      "max_pooling2d_1 (MaxPooling2 (None, 8, 18, 32)         0         \n",
      "_________________________________________________________________\n",
      "conv2d_4 (Conv2D)            (None, 6, 16, 64)         18496     \n",
      "_________________________________________________________________\n",
      "conv2d_5 (Conv2D)            (None, 4, 14, 64)         36928     \n",
      "_________________________________________________________________\n",
      "dropout (Dropout)            (None, 4, 14, 64)         0         \n",
      "_________________________________________________________________\n",
      "flatten (Flatten)            (None, 3584)              0         \n",
      "_________________________________________________________________\n",
      "dense (Dense)                (None, 1024)              3671040   \n",
      "_________________________________________________________________\n",
      "dense_1 (Dense)              (None, 256)               262400    \n",
      "_________________________________________________________________\n",
      "dense_2 (Dense)              (None, 64)                16448     \n",
      "_________________________________________________________________\n",
      "dense_3 (Dense)              (None, 16)                1040      \n",
      "_________________________________________________________________\n",
      "dense_4 (Dense)              (None, 1)                 17        \n",
      "=================================================================\n",
      "Total params: 4,032,285\n",
      "Trainable params: 4,032,279\n",
      "Non-trainable params: 6\n",
      "_________________________________________________________________\n"
     ]
    }
   ],
   "source": [
    "model = model()\n",
    "model.summary()"
   ]
  },
  {
   "cell_type": "code",
   "execution_count": null,
   "metadata": {
    "scrolled": true
   },
   "outputs": [
    {
     "name": "stdout",
     "output_type": "stream",
     "text": [
      "Train on 40983 samples, validate on 7233 samples\n",
      "WARNING:tensorflow:From /home/era/anaconda3/envs/tf-gpu3/lib/python3.6/site-packages/tensorflow/python/ops/math_ops.py:3068: to_int32 (from tensorflow.python.ops.math_ops) is deprecated and will be removed in a future version.\n",
      "Instructions for updating:\n",
      "Use tf.cast instead.\n",
      "Epoch 1/5\n",
      "40983/40983==============================] - 36s 885us/sample - loss: 1.1017 - val_loss: 0.0223\n",
      "Epoch 2/5\n",
      "40983/40983==============================] - 34s 829us/sample - loss: 0.0231 - val_loss: 0.0144\n",
      "Epoch 3/5\n",
      "40983/40983==============================] - 34s 829us/sample - loss: 0.0178 - val_loss: 0.0126\n",
      "Epoch 4/5\n",
      "40983/40983==============================] - 34s 829us/sample - loss: 0.0156 - val_loss: 0.0115\n",
      "Epoch 5/5\n",
      " 8448/40983=====>........................] - ETA: 25s - loss: 0.0154"
     ]
    }
   ],
   "source": [
    "model.fit(X_train, y_train, epochs=5, batch_size=256,\n",
    "          validation_data=(X_valid, y_valid))\n",
    "\n",
    "model.save('model.h5')"
   ]
  },
  {
   "cell_type": "code",
   "execution_count": null,
   "metadata": {},
   "outputs": [],
   "source": []
  }
 ],
 "metadata": {
  "kernelspec": {
   "display_name": "Python (tf-gpu)",
   "language": "python",
   "name": "tf-gpu3"
  },
  "language_info": {
   "codemirror_mode": {
    "name": "ipython",
    "version": 3
   },
   "file_extension": ".py",
   "mimetype": "text/x-python",
   "name": "python",
   "nbconvert_exporter": "python",
   "pygments_lexer": "ipython3",
   "version": "3.6.8"
  }
 },
 "nbformat": 4,
 "nbformat_minor": 2
}
